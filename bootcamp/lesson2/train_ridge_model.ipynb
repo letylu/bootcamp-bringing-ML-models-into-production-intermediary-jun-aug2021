{
 "cells": [
  {
   "source": [
    "MIT License\n",
    "\n",
    "Copyright (c) Microsoft Corporation. All rights reserved.\n",
    "\n",
    "This notebook is adapted from Francesca Lazzeri Energy Demand Forecast Workbench workshop.\n",
    "\n",
    "Copyright (c) 2021 PyLadies Amsterdam, Alyona Galyeva"
   ],
   "cell_type": "markdown",
   "metadata": {}
  },
  {
   "cell_type": "markdown",
   "metadata": {},
   "source": [
    "# Ridge regression"
   ]
  },
  {
   "cell_type": "code",
   "execution_count": 1,
   "metadata": {},
   "outputs": [],
   "source": [
    "%matplotlib inline\n",
    "import os\n",
    "import pickle\n",
    "import matplotlib\n",
    "import matplotlib.pyplot as plt\n",
    "import numpy as np\n",
    "import pandas as pd\n",
    "import scipy.stats as st\n",
    "from azureml.core import Workspace, Dataset\n",
    "from azureml.core.experiment import Experiment\n",
    "from sklearn.compose import ColumnTransformer\n",
    "from sklearn.linear_model import Ridge\n",
    "from sklearn.metrics import mean_squared_error\n",
    "from sklearn.model_selection import RandomizedSearchCV\n",
    "from sklearn.model_selection import TimeSeriesSplit\n",
    "from sklearn.pipeline import Pipeline\n",
    "from sklearn.preprocessing import OneHotEncoder"
   ]
  },
  {
   "cell_type": "code",
   "execution_count": 2,
   "metadata": {},
   "outputs": [],
   "source": [
    "WORKDIR = os.getcwd()\n",
    "MODEL_NAME = \"ridge\""
   ]
  },
  {
   "cell_type": "code",
   "execution_count": 3,
   "metadata": {},
   "outputs": [],
   "source": [
    "ws = Workspace.from_config()"
   ]
  },
  {
   "cell_type": "code",
   "execution_count": 4,
   "metadata": {},
   "outputs": [
    {
     "output_type": "stream",
     "name": "stdout",
     "text": [
      "train_nyc_demand_data 1\n"
     ]
    }
   ],
   "source": [
    "#Obtain the data from the cloud storage\n",
    "train_ds = Dataset.get_by_name(ws, name=\"train_nyc_demand_data\")\n",
    "print(train_ds.name, train_ds.version)"
   ]
  },
  {
   "cell_type": "code",
   "execution_count": 5,
   "metadata": {},
   "outputs": [
    {
     "output_type": "execute_result",
     "data": {
      "text/plain": [
       "            timeStamp  demand  precip   temp  hour  month  dayofweek  \\\n",
       "0 2012-01-01 06:00:00  4324.9     0.0  38.78     6      0          6   \n",
       "1 2012-01-01 07:00:00  4350.0     0.0  42.74     7      0          6   \n",
       "2 2012-01-01 08:00:00  4480.9     0.0  38.90     8      0          6   \n",
       "3 2012-01-01 09:00:00  4664.2     0.0  44.67     9      0          6   \n",
       "4 2012-01-01 10:00:00  4847.5     0.0  47.43    10      0          6   \n",
       "\n",
       "   temp_lag1  temp_lag2  temp_lag3  temp_lag4  temp_lag5  temp_lag6  \\\n",
       "0      39.02      42.61      45.03      45.04      45.89      46.13   \n",
       "1      38.78      39.02      42.61      45.03      45.04      45.89   \n",
       "2      42.74      38.78      39.02      42.61      45.03      45.04   \n",
       "3      38.90      42.74      38.78      39.02      42.61      45.03   \n",
       "4      44.67      38.90      42.74      38.78      39.02      42.61   \n",
       "\n",
       "   demand_lag1  demand_lag2  demand_lag3  demand_lag4  demand_lag5  \\\n",
       "0       4274.7       4275.5       4357.7       4542.6       4752.1   \n",
       "1       4324.9       4274.7       4275.5       4357.7       4542.6   \n",
       "2       4350.0       4324.9       4274.7       4275.5       4357.7   \n",
       "3       4480.9       4350.0       4324.9       4274.7       4275.5   \n",
       "4       4664.2       4480.9       4350.0       4324.9       4274.7   \n",
       "\n",
       "   demand_lag6  \n",
       "0       4937.5  \n",
       "1       4752.1  \n",
       "2       4542.6  \n",
       "3       4357.7  \n",
       "4       4275.5  "
      ],
      "text/html": "<div>\n<style scoped>\n    .dataframe tbody tr th:only-of-type {\n        vertical-align: middle;\n    }\n\n    .dataframe tbody tr th {\n        vertical-align: top;\n    }\n\n    .dataframe thead th {\n        text-align: right;\n    }\n</style>\n<table border=\"1\" class=\"dataframe\">\n  <thead>\n    <tr style=\"text-align: right;\">\n      <th></th>\n      <th>timeStamp</th>\n      <th>demand</th>\n      <th>precip</th>\n      <th>temp</th>\n      <th>hour</th>\n      <th>month</th>\n      <th>dayofweek</th>\n      <th>temp_lag1</th>\n      <th>temp_lag2</th>\n      <th>temp_lag3</th>\n      <th>temp_lag4</th>\n      <th>temp_lag5</th>\n      <th>temp_lag6</th>\n      <th>demand_lag1</th>\n      <th>demand_lag2</th>\n      <th>demand_lag3</th>\n      <th>demand_lag4</th>\n      <th>demand_lag5</th>\n      <th>demand_lag6</th>\n    </tr>\n  </thead>\n  <tbody>\n    <tr>\n      <th>0</th>\n      <td>2012-01-01 06:00:00</td>\n      <td>4324.9</td>\n      <td>0.0</td>\n      <td>38.78</td>\n      <td>6</td>\n      <td>0</td>\n      <td>6</td>\n      <td>39.02</td>\n      <td>42.61</td>\n      <td>45.03</td>\n      <td>45.04</td>\n      <td>45.89</td>\n      <td>46.13</td>\n      <td>4274.7</td>\n      <td>4275.5</td>\n      <td>4357.7</td>\n      <td>4542.6</td>\n      <td>4752.1</td>\n      <td>4937.5</td>\n    </tr>\n    <tr>\n      <th>1</th>\n      <td>2012-01-01 07:00:00</td>\n      <td>4350.0</td>\n      <td>0.0</td>\n      <td>42.74</td>\n      <td>7</td>\n      <td>0</td>\n      <td>6</td>\n      <td>38.78</td>\n      <td>39.02</td>\n      <td>42.61</td>\n      <td>45.03</td>\n      <td>45.04</td>\n      <td>45.89</td>\n      <td>4324.9</td>\n      <td>4274.7</td>\n      <td>4275.5</td>\n      <td>4357.7</td>\n      <td>4542.6</td>\n      <td>4752.1</td>\n    </tr>\n    <tr>\n      <th>2</th>\n      <td>2012-01-01 08:00:00</td>\n      <td>4480.9</td>\n      <td>0.0</td>\n      <td>38.90</td>\n      <td>8</td>\n      <td>0</td>\n      <td>6</td>\n      <td>42.74</td>\n      <td>38.78</td>\n      <td>39.02</td>\n      <td>42.61</td>\n      <td>45.03</td>\n      <td>45.04</td>\n      <td>4350.0</td>\n      <td>4324.9</td>\n      <td>4274.7</td>\n      <td>4275.5</td>\n      <td>4357.7</td>\n      <td>4542.6</td>\n    </tr>\n    <tr>\n      <th>3</th>\n      <td>2012-01-01 09:00:00</td>\n      <td>4664.2</td>\n      <td>0.0</td>\n      <td>44.67</td>\n      <td>9</td>\n      <td>0</td>\n      <td>6</td>\n      <td>38.90</td>\n      <td>42.74</td>\n      <td>38.78</td>\n      <td>39.02</td>\n      <td>42.61</td>\n      <td>45.03</td>\n      <td>4480.9</td>\n      <td>4350.0</td>\n      <td>4324.9</td>\n      <td>4274.7</td>\n      <td>4275.5</td>\n      <td>4357.7</td>\n    </tr>\n    <tr>\n      <th>4</th>\n      <td>2012-01-01 10:00:00</td>\n      <td>4847.5</td>\n      <td>0.0</td>\n      <td>47.43</td>\n      <td>10</td>\n      <td>0</td>\n      <td>6</td>\n      <td>44.67</td>\n      <td>38.90</td>\n      <td>42.74</td>\n      <td>38.78</td>\n      <td>39.02</td>\n      <td>42.61</td>\n      <td>4664.2</td>\n      <td>4480.9</td>\n      <td>4350.0</td>\n      <td>4324.9</td>\n      <td>4274.7</td>\n      <td>4275.5</td>\n    </tr>\n  </tbody>\n</table>\n</div>"
     },
     "metadata": {},
     "execution_count": 5
    }
   ],
   "source": [
    "train = train_ds.to_pandas_dataframe()\n",
    "train.head()"
   ]
  },
  {
   "cell_type": "markdown",
   "metadata": {},
   "source": [
    "Create model pipeline:\n",
    "- **one-hot encode categorical variables**\n",
    "- **randomized parameter search** with cross validation to find optimal values for the alpha parameter\n",
    "\n",
    "Fitting this pipeline should take less than a minute."
   ]
  },
  {
   "cell_type": "code",
   "execution_count": 6,
   "metadata": {},
   "outputs": [],
   "source": [
    "# Drop the target and the timeStamp\n",
    "X = train.drop(['demand', 'timeStamp'], axis=1)"
   ]
  },
  {
   "cell_type": "code",
   "execution_count": 7,
   "metadata": {},
   "outputs": [],
   "source": [
    "# Creates the new experiment for the new model\n",
    "ridge_experiment = Experiment(ws, name=\"Ridge\")\n",
    "run = ridge_experiment.start_logging()\n",
    "\n",
    "run.log(\"dataset name\", train_ds.name)\n",
    "run.log(\"dataset version\", train_ds.version)"
   ]
  },
  {
   "cell_type": "code",
   "execution_count": 8,
   "metadata": {},
   "outputs": [],
   "source": [
    "cat_cols = ['hour', 'month', 'dayofweek']\n",
    "cat_cols_idx = [X.columns.get_loc(c) for c in X.columns if c in cat_cols]\n",
    "run.log_list(\"cat_cols\", cat_cols)\n",
    "preprocessor = ColumnTransformer([('encoder', OneHotEncoder(sparse=False), cat_cols_idx)], remainder='passthrough')\n",
    "regr = Ridge(fit_intercept=False)\n",
    "tscv = TimeSeriesSplit(n_splits=3)"
   ]
  },
  {
   "cell_type": "code",
   "execution_count": 9,
   "metadata": {},
   "outputs": [
    {
     "output_type": "stream",
     "name": "stdout",
     "text": [
      "Fitting 3 folds for each of 100 candidates, totalling 300 fits\n"
     ]
    }
   ],
   "source": [
    "param_dist = {'alpha': st.uniform(1e-4, 10.0)}\n",
    "regr_cv = RandomizedSearchCV(estimator=regr,\n",
    "                            param_distributions=param_dist,\n",
    "                            n_iter=100,\n",
    "                            scoring='neg_mean_squared_error',\n",
    "                            cv=tscv,\n",
    "                            verbose=2,\n",
    "                            n_jobs=-1)\n",
    "regr_pipe = Pipeline([('preprocessor', preprocessor), ('regr_cv', regr_cv)])\n",
    "regr_pipe.fit(X, y=train['demand'])\n",
    "run.log(\"pipeline steps\", regr_pipe.named_steps)\n",
    "run.log_list(\"param_dist\", param_dist)"
   ]
  },
  {
   "cell_type": "code",
   "execution_count": 10,
   "metadata": {},
   "outputs": [],
   "source": [
    "# store the new model in the cloud\n",
    "with open(os.path.join(WORKDIR, MODEL_NAME + '.pkl'), 'wb') as f:\n",
    "    pickle.dump(regr_pipe, f)"
   ]
  },
  {
   "cell_type": "markdown",
   "metadata": {},
   "source": [
    "Cross validation results"
   ]
  },
  {
   "cell_type": "code",
   "execution_count": 11,
   "metadata": {},
   "outputs": [
    {
     "output_type": "execute_result",
     "data": {
      "text/plain": [
       "    mean_fit_time  std_fit_time  mean_score_time  std_score_time param_alpha  \\\n",
       "40       0.045767      0.004277         0.003826        0.001091     6.28452   \n",
       "71       0.015475      0.002015         0.001674        0.000141    6.370927   \n",
       "9        0.027280      0.010014         0.001830        0.000399      6.4008   \n",
       "80       0.041896      0.011344         0.001721        0.000268    6.188027   \n",
       "13       0.029313      0.011705         0.001632        0.000157    6.163453   \n",
       "\n",
       "                          params  split0_test_score  split1_test_score  \\\n",
       "40  {'alpha': 6.284520196860089}       -4167.596110       -3679.051292   \n",
       "71  {'alpha': 6.370926653549964}       -4167.731118       -3678.999282   \n",
       "9   {'alpha': 6.400800064661093}       -4167.778345       -3678.981501   \n",
       "80  {'alpha': 6.188026678226168}       -4167.448169       -3679.110399   \n",
       "13  {'alpha': 6.163453258217401}       -4167.410975       -3679.125625   \n",
       "\n",
       "    split2_test_score  mean_test_score  std_test_score  rank_test_score  \n",
       "40       -3789.921261     -3878.856221      209.126883                1  \n",
       "71       -3789.839251     -3878.856550      209.217210                2  \n",
       "9        -3789.811042     -3878.856963      209.248609                3  \n",
       "80       -3790.013584     -3878.857384      209.026888                4  \n",
       "13       -3790.037221     -3878.857941      209.001572                5  "
      ],
      "text/html": "<div>\n<style scoped>\n    .dataframe tbody tr th:only-of-type {\n        vertical-align: middle;\n    }\n\n    .dataframe tbody tr th {\n        vertical-align: top;\n    }\n\n    .dataframe thead th {\n        text-align: right;\n    }\n</style>\n<table border=\"1\" class=\"dataframe\">\n  <thead>\n    <tr style=\"text-align: right;\">\n      <th></th>\n      <th>mean_fit_time</th>\n      <th>std_fit_time</th>\n      <th>mean_score_time</th>\n      <th>std_score_time</th>\n      <th>param_alpha</th>\n      <th>params</th>\n      <th>split0_test_score</th>\n      <th>split1_test_score</th>\n      <th>split2_test_score</th>\n      <th>mean_test_score</th>\n      <th>std_test_score</th>\n      <th>rank_test_score</th>\n    </tr>\n  </thead>\n  <tbody>\n    <tr>\n      <th>40</th>\n      <td>0.045767</td>\n      <td>0.004277</td>\n      <td>0.003826</td>\n      <td>0.001091</td>\n      <td>6.28452</td>\n      <td>{'alpha': 6.284520196860089}</td>\n      <td>-4167.596110</td>\n      <td>-3679.051292</td>\n      <td>-3789.921261</td>\n      <td>-3878.856221</td>\n      <td>209.126883</td>\n      <td>1</td>\n    </tr>\n    <tr>\n      <th>71</th>\n      <td>0.015475</td>\n      <td>0.002015</td>\n      <td>0.001674</td>\n      <td>0.000141</td>\n      <td>6.370927</td>\n      <td>{'alpha': 6.370926653549964}</td>\n      <td>-4167.731118</td>\n      <td>-3678.999282</td>\n      <td>-3789.839251</td>\n      <td>-3878.856550</td>\n      <td>209.217210</td>\n      <td>2</td>\n    </tr>\n    <tr>\n      <th>9</th>\n      <td>0.027280</td>\n      <td>0.010014</td>\n      <td>0.001830</td>\n      <td>0.000399</td>\n      <td>6.4008</td>\n      <td>{'alpha': 6.400800064661093}</td>\n      <td>-4167.778345</td>\n      <td>-3678.981501</td>\n      <td>-3789.811042</td>\n      <td>-3878.856963</td>\n      <td>209.248609</td>\n      <td>3</td>\n    </tr>\n    <tr>\n      <th>80</th>\n      <td>0.041896</td>\n      <td>0.011344</td>\n      <td>0.001721</td>\n      <td>0.000268</td>\n      <td>6.188027</td>\n      <td>{'alpha': 6.188026678226168}</td>\n      <td>-4167.448169</td>\n      <td>-3679.110399</td>\n      <td>-3790.013584</td>\n      <td>-3878.857384</td>\n      <td>209.026888</td>\n      <td>4</td>\n    </tr>\n    <tr>\n      <th>13</th>\n      <td>0.029313</td>\n      <td>0.011705</td>\n      <td>0.001632</td>\n      <td>0.000157</td>\n      <td>6.163453</td>\n      <td>{'alpha': 6.163453258217401}</td>\n      <td>-4167.410975</td>\n      <td>-3679.125625</td>\n      <td>-3790.037221</td>\n      <td>-3878.857941</td>\n      <td>209.001572</td>\n      <td>5</td>\n    </tr>\n  </tbody>\n</table>\n</div>"
     },
     "metadata": {},
     "execution_count": 11
    }
   ],
   "source": [
    "# Cross validation with model from the cloud\n",
    "cv_results = pd.DataFrame(regr_pipe.named_steps['regr_cv'].cv_results_)\n",
    "run.log_list(\"cv_results\", regr_pipe.named_steps['regr_cv'].cv_results_)\n",
    "cv_results.sort_values(by='rank_test_score').head()"
   ]
  },
  {
   "cell_type": "code",
   "execution_count": 12,
   "metadata": {},
   "outputs": [
    {
     "output_type": "display_data",
     "data": {
      "text/plain": "<Figure size 432x288 with 1 Axes>",
      "image/svg+xml": "<?xml version=\"1.0\" encoding=\"utf-8\" standalone=\"no\"?>\n<!DOCTYPE svg PUBLIC \"-//W3C//DTD SVG 1.1//EN\"\n  \"http://www.w3.org/Graphics/SVG/1.1/DTD/svg11.dtd\">\n<!-- Created with matplotlib (https://matplotlib.org/) -->\n<svg height=\"263.63625pt\" version=\"1.1\" viewBox=\"0 0 390.029687 263.63625\" width=\"390.029687pt\" xmlns=\"http://www.w3.org/2000/svg\" xmlns:xlink=\"http://www.w3.org/1999/xlink\">\n <metadata>\n  <rdf:RDF xmlns:cc=\"http://creativecommons.org/ns#\" xmlns:dc=\"http://purl.org/dc/elements/1.1/\" xmlns:rdf=\"http://www.w3.org/1999/02/22-rdf-syntax-ns#\">\n   <cc:Work>\n    <dc:type rdf:resource=\"http://purl.org/dc/dcmitype/StillImage\"/>\n    <dc:date>2021-07-18T18:16:34.892349</dc:date>\n    <dc:format>image/svg+xml</dc:format>\n    <dc:creator>\n     <cc:Agent>\n      <dc:title>Matplotlib v3.3.4, https://matplotlib.org/</dc:title>\n     </cc:Agent>\n    </dc:creator>\n   </cc:Work>\n  </rdf:RDF>\n </metadata>\n <defs>\n  <style type=\"text/css\">*{stroke-linecap:butt;stroke-linejoin:round;}</style>\n </defs>\n <g id=\"figure_1\">\n  <g id=\"patch_1\">\n   <path d=\"M 0 263.63625 \nL 390.029687 263.63625 \nL 390.029687 0 \nL 0 0 \nz\n\" style=\"fill:none;\"/>\n  </g>\n  <g id=\"axes_1\">\n   <g id=\"patch_2\">\n    <path d=\"M 48.029688 239.758125 \nL 382.829688 239.758125 \nL 382.829688 22.318125 \nL 48.029688 22.318125 \nz\n\" style=\"fill:#ffffff;\"/>\n   </g>\n   <g id=\"matplotlib.axis_1\">\n    <g id=\"xtick_1\">\n     <g id=\"line2d_1\">\n      <defs>\n       <path d=\"M 0 0 \nL 0 3.5 \n\" id=\"maa6559c62e\" style=\"stroke:#000000;stroke-width:0.8;\"/>\n      </defs>\n      <g>\n       <use style=\"stroke:#000000;stroke-width:0.8;\" x=\"63.009065\" xlink:href=\"#maa6559c62e\" y=\"239.758125\"/>\n      </g>\n     </g>\n     <g id=\"text_1\">\n      <!-- 0 -->\n      <g transform=\"translate(59.827815 254.356563)scale(0.1 -0.1)\">\n       <defs>\n        <path d=\"M 31.78125 66.40625 \nQ 24.171875 66.40625 20.328125 58.90625 \nQ 16.5 51.421875 16.5 36.375 \nQ 16.5 21.390625 20.328125 13.890625 \nQ 24.171875 6.390625 31.78125 6.390625 \nQ 39.453125 6.390625 43.28125 13.890625 \nQ 47.125 21.390625 47.125 36.375 \nQ 47.125 51.421875 43.28125 58.90625 \nQ 39.453125 66.40625 31.78125 66.40625 \nz\nM 31.78125 74.21875 \nQ 44.046875 74.21875 50.515625 64.515625 \nQ 56.984375 54.828125 56.984375 36.375 \nQ 56.984375 17.96875 50.515625 8.265625 \nQ 44.046875 -1.421875 31.78125 -1.421875 \nQ 19.53125 -1.421875 13.0625 8.265625 \nQ 6.59375 17.96875 6.59375 36.375 \nQ 6.59375 54.828125 13.0625 64.515625 \nQ 19.53125 74.21875 31.78125 74.21875 \nz\n\" id=\"DejaVuSans-48\"/>\n       </defs>\n       <use xlink:href=\"#DejaVuSans-48\"/>\n      </g>\n     </g>\n    </g>\n    <g id=\"xtick_2\">\n     <g id=\"line2d_2\">\n      <g>\n       <use style=\"stroke:#000000;stroke-width:0.8;\" x=\"124.410798\" xlink:href=\"#maa6559c62e\" y=\"239.758125\"/>\n      </g>\n     </g>\n     <g id=\"text_2\">\n      <!-- 2 -->\n      <g transform=\"translate(121.229548 254.356563)scale(0.1 -0.1)\">\n       <defs>\n        <path d=\"M 19.1875 8.296875 \nL 53.609375 8.296875 \nL 53.609375 0 \nL 7.328125 0 \nL 7.328125 8.296875 \nQ 12.9375 14.109375 22.625 23.890625 \nQ 32.328125 33.6875 34.8125 36.53125 \nQ 39.546875 41.84375 41.421875 45.53125 \nQ 43.3125 49.21875 43.3125 52.78125 \nQ 43.3125 58.59375 39.234375 62.25 \nQ 35.15625 65.921875 28.609375 65.921875 \nQ 23.96875 65.921875 18.8125 64.3125 \nQ 13.671875 62.703125 7.8125 59.421875 \nL 7.8125 69.390625 \nQ 13.765625 71.78125 18.9375 73 \nQ 24.125 74.21875 28.421875 74.21875 \nQ 39.75 74.21875 46.484375 68.546875 \nQ 53.21875 62.890625 53.21875 53.421875 \nQ 53.21875 48.921875 51.53125 44.890625 \nQ 49.859375 40.875 45.40625 35.40625 \nQ 44.1875 33.984375 37.640625 27.21875 \nQ 31.109375 20.453125 19.1875 8.296875 \nz\n\" id=\"DejaVuSans-50\"/>\n       </defs>\n       <use xlink:href=\"#DejaVuSans-50\"/>\n      </g>\n     </g>\n    </g>\n    <g id=\"xtick_3\">\n     <g id=\"line2d_3\">\n      <g>\n       <use style=\"stroke:#000000;stroke-width:0.8;\" x=\"185.81253\" xlink:href=\"#maa6559c62e\" y=\"239.758125\"/>\n      </g>\n     </g>\n     <g id=\"text_3\">\n      <!-- 4 -->\n      <g transform=\"translate(182.63128 254.356563)scale(0.1 -0.1)\">\n       <defs>\n        <path d=\"M 37.796875 64.3125 \nL 12.890625 25.390625 \nL 37.796875 25.390625 \nz\nM 35.203125 72.90625 \nL 47.609375 72.90625 \nL 47.609375 25.390625 \nL 58.015625 25.390625 \nL 58.015625 17.1875 \nL 47.609375 17.1875 \nL 47.609375 0 \nL 37.796875 0 \nL 37.796875 17.1875 \nL 4.890625 17.1875 \nL 4.890625 26.703125 \nz\n\" id=\"DejaVuSans-52\"/>\n       </defs>\n       <use xlink:href=\"#DejaVuSans-52\"/>\n      </g>\n     </g>\n    </g>\n    <g id=\"xtick_4\">\n     <g id=\"line2d_4\">\n      <g>\n       <use style=\"stroke:#000000;stroke-width:0.8;\" x=\"247.214262\" xlink:href=\"#maa6559c62e\" y=\"239.758125\"/>\n      </g>\n     </g>\n     <g id=\"text_4\">\n      <!-- 6 -->\n      <g transform=\"translate(244.033012 254.356563)scale(0.1 -0.1)\">\n       <defs>\n        <path d=\"M 33.015625 40.375 \nQ 26.375 40.375 22.484375 35.828125 \nQ 18.609375 31.296875 18.609375 23.390625 \nQ 18.609375 15.53125 22.484375 10.953125 \nQ 26.375 6.390625 33.015625 6.390625 \nQ 39.65625 6.390625 43.53125 10.953125 \nQ 47.40625 15.53125 47.40625 23.390625 \nQ 47.40625 31.296875 43.53125 35.828125 \nQ 39.65625 40.375 33.015625 40.375 \nz\nM 52.59375 71.296875 \nL 52.59375 62.3125 \nQ 48.875 64.0625 45.09375 64.984375 \nQ 41.3125 65.921875 37.59375 65.921875 \nQ 27.828125 65.921875 22.671875 59.328125 \nQ 17.53125 52.734375 16.796875 39.40625 \nQ 19.671875 43.65625 24.015625 45.921875 \nQ 28.375 48.1875 33.59375 48.1875 \nQ 44.578125 48.1875 50.953125 41.515625 \nQ 57.328125 34.859375 57.328125 23.390625 \nQ 57.328125 12.15625 50.6875 5.359375 \nQ 44.046875 -1.421875 33.015625 -1.421875 \nQ 20.359375 -1.421875 13.671875 8.265625 \nQ 6.984375 17.96875 6.984375 36.375 \nQ 6.984375 53.65625 15.1875 63.9375 \nQ 23.390625 74.21875 37.203125 74.21875 \nQ 40.921875 74.21875 44.703125 73.484375 \nQ 48.484375 72.75 52.59375 71.296875 \nz\n\" id=\"DejaVuSans-54\"/>\n       </defs>\n       <use xlink:href=\"#DejaVuSans-54\"/>\n      </g>\n     </g>\n    </g>\n    <g id=\"xtick_5\">\n     <g id=\"line2d_5\">\n      <g>\n       <use style=\"stroke:#000000;stroke-width:0.8;\" x=\"308.615994\" xlink:href=\"#maa6559c62e\" y=\"239.758125\"/>\n      </g>\n     </g>\n     <g id=\"text_5\">\n      <!-- 8 -->\n      <g transform=\"translate(305.434744 254.356563)scale(0.1 -0.1)\">\n       <defs>\n        <path d=\"M 31.78125 34.625 \nQ 24.75 34.625 20.71875 30.859375 \nQ 16.703125 27.09375 16.703125 20.515625 \nQ 16.703125 13.921875 20.71875 10.15625 \nQ 24.75 6.390625 31.78125 6.390625 \nQ 38.8125 6.390625 42.859375 10.171875 \nQ 46.921875 13.96875 46.921875 20.515625 \nQ 46.921875 27.09375 42.890625 30.859375 \nQ 38.875 34.625 31.78125 34.625 \nz\nM 21.921875 38.8125 \nQ 15.578125 40.375 12.03125 44.71875 \nQ 8.5 49.078125 8.5 55.328125 \nQ 8.5 64.0625 14.71875 69.140625 \nQ 20.953125 74.21875 31.78125 74.21875 \nQ 42.671875 74.21875 48.875 69.140625 \nQ 55.078125 64.0625 55.078125 55.328125 \nQ 55.078125 49.078125 51.53125 44.71875 \nQ 48 40.375 41.703125 38.8125 \nQ 48.828125 37.15625 52.796875 32.3125 \nQ 56.78125 27.484375 56.78125 20.515625 \nQ 56.78125 9.90625 50.3125 4.234375 \nQ 43.84375 -1.421875 31.78125 -1.421875 \nQ 19.734375 -1.421875 13.25 4.234375 \nQ 6.78125 9.90625 6.78125 20.515625 \nQ 6.78125 27.484375 10.78125 32.3125 \nQ 14.796875 37.15625 21.921875 38.8125 \nz\nM 18.3125 54.390625 \nQ 18.3125 48.734375 21.84375 45.5625 \nQ 25.390625 42.390625 31.78125 42.390625 \nQ 38.140625 42.390625 41.71875 45.5625 \nQ 45.3125 48.734375 45.3125 54.390625 \nQ 45.3125 60.0625 41.71875 63.234375 \nQ 38.140625 66.40625 31.78125 66.40625 \nQ 25.390625 66.40625 21.84375 63.234375 \nQ 18.3125 60.0625 18.3125 54.390625 \nz\n\" id=\"DejaVuSans-56\"/>\n       </defs>\n       <use xlink:href=\"#DejaVuSans-56\"/>\n      </g>\n     </g>\n    </g>\n    <g id=\"xtick_6\">\n     <g id=\"line2d_6\">\n      <g>\n       <use style=\"stroke:#000000;stroke-width:0.8;\" x=\"370.017726\" xlink:href=\"#maa6559c62e\" y=\"239.758125\"/>\n      </g>\n     </g>\n     <g id=\"text_6\">\n      <!-- 10 -->\n      <g transform=\"translate(363.655226 254.356563)scale(0.1 -0.1)\">\n       <defs>\n        <path d=\"M 12.40625 8.296875 \nL 28.515625 8.296875 \nL 28.515625 63.921875 \nL 10.984375 60.40625 \nL 10.984375 69.390625 \nL 28.421875 72.90625 \nL 38.28125 72.90625 \nL 38.28125 8.296875 \nL 54.390625 8.296875 \nL 54.390625 0 \nL 12.40625 0 \nz\n\" id=\"DejaVuSans-49\"/>\n       </defs>\n       <use xlink:href=\"#DejaVuSans-49\"/>\n       <use x=\"63.623047\" xlink:href=\"#DejaVuSans-48\"/>\n      </g>\n     </g>\n    </g>\n   </g>\n   <g id=\"matplotlib.axis_2\">\n    <g id=\"ytick_1\">\n     <g id=\"line2d_7\">\n      <defs>\n       <path d=\"M 0 0 \nL -3.5 0 \n\" id=\"m1d38ea7079\" style=\"stroke:#000000;stroke-width:0.8;\"/>\n      </defs>\n      <g>\n       <use style=\"stroke:#000000;stroke-width:0.8;\" x=\"48.029688\" xlink:href=\"#m1d38ea7079\" y=\"200.305967\"/>\n      </g>\n     </g>\n     <g id=\"text_7\">\n      <!-- −3883 -->\n      <g transform=\"translate(7.2 204.105186)scale(0.1 -0.1)\">\n       <defs>\n        <path d=\"M 10.59375 35.5 \nL 73.1875 35.5 \nL 73.1875 27.203125 \nL 10.59375 27.203125 \nz\n\" id=\"DejaVuSans-8722\"/>\n        <path d=\"M 40.578125 39.3125 \nQ 47.65625 37.796875 51.625 33 \nQ 55.609375 28.21875 55.609375 21.1875 \nQ 55.609375 10.40625 48.1875 4.484375 \nQ 40.765625 -1.421875 27.09375 -1.421875 \nQ 22.515625 -1.421875 17.65625 -0.515625 \nQ 12.796875 0.390625 7.625 2.203125 \nL 7.625 11.71875 \nQ 11.71875 9.328125 16.59375 8.109375 \nQ 21.484375 6.890625 26.8125 6.890625 \nQ 36.078125 6.890625 40.9375 10.546875 \nQ 45.796875 14.203125 45.796875 21.1875 \nQ 45.796875 27.640625 41.28125 31.265625 \nQ 36.765625 34.90625 28.71875 34.90625 \nL 20.21875 34.90625 \nL 20.21875 43.015625 \nL 29.109375 43.015625 \nQ 36.375 43.015625 40.234375 45.921875 \nQ 44.09375 48.828125 44.09375 54.296875 \nQ 44.09375 59.90625 40.109375 62.90625 \nQ 36.140625 65.921875 28.71875 65.921875 \nQ 24.65625 65.921875 20.015625 65.03125 \nQ 15.375 64.15625 9.8125 62.3125 \nL 9.8125 71.09375 \nQ 15.4375 72.65625 20.34375 73.4375 \nQ 25.25 74.21875 29.59375 74.21875 \nQ 40.828125 74.21875 47.359375 69.109375 \nQ 53.90625 64.015625 53.90625 55.328125 \nQ 53.90625 49.265625 50.4375 45.09375 \nQ 46.96875 40.921875 40.578125 39.3125 \nz\n\" id=\"DejaVuSans-51\"/>\n       </defs>\n       <use xlink:href=\"#DejaVuSans-8722\"/>\n       <use x=\"83.789062\" xlink:href=\"#DejaVuSans-51\"/>\n       <use x=\"147.412109\" xlink:href=\"#DejaVuSans-56\"/>\n       <use x=\"211.035156\" xlink:href=\"#DejaVuSans-56\"/>\n       <use x=\"274.658203\" xlink:href=\"#DejaVuSans-51\"/>\n      </g>\n     </g>\n    </g>\n    <g id=\"ytick_2\">\n     <g id=\"line2d_8\">\n      <g>\n       <use style=\"stroke:#000000;stroke-width:0.8;\" x=\"48.029688\" xlink:href=\"#m1d38ea7079\" y=\"159.738118\"/>\n      </g>\n     </g>\n     <g id=\"text_8\">\n      <!-- −3882 -->\n      <g transform=\"translate(7.2 163.537337)scale(0.1 -0.1)\">\n       <use xlink:href=\"#DejaVuSans-8722\"/>\n       <use x=\"83.789062\" xlink:href=\"#DejaVuSans-51\"/>\n       <use x=\"147.412109\" xlink:href=\"#DejaVuSans-56\"/>\n       <use x=\"211.035156\" xlink:href=\"#DejaVuSans-56\"/>\n       <use x=\"274.658203\" xlink:href=\"#DejaVuSans-50\"/>\n      </g>\n     </g>\n    </g>\n    <g id=\"ytick_3\">\n     <g id=\"line2d_9\">\n      <g>\n       <use style=\"stroke:#000000;stroke-width:0.8;\" x=\"48.029688\" xlink:href=\"#m1d38ea7079\" y=\"119.170269\"/>\n      </g>\n     </g>\n     <g id=\"text_9\">\n      <!-- −3881 -->\n      <g transform=\"translate(7.2 122.969488)scale(0.1 -0.1)\">\n       <use xlink:href=\"#DejaVuSans-8722\"/>\n       <use x=\"83.789062\" xlink:href=\"#DejaVuSans-51\"/>\n       <use x=\"147.412109\" xlink:href=\"#DejaVuSans-56\"/>\n       <use x=\"211.035156\" xlink:href=\"#DejaVuSans-56\"/>\n       <use x=\"274.658203\" xlink:href=\"#DejaVuSans-49\"/>\n      </g>\n     </g>\n    </g>\n    <g id=\"ytick_4\">\n     <g id=\"line2d_10\">\n      <g>\n       <use style=\"stroke:#000000;stroke-width:0.8;\" x=\"48.029688\" xlink:href=\"#m1d38ea7079\" y=\"78.60242\"/>\n      </g>\n     </g>\n     <g id=\"text_10\">\n      <!-- −3880 -->\n      <g transform=\"translate(7.2 82.401638)scale(0.1 -0.1)\">\n       <use xlink:href=\"#DejaVuSans-8722\"/>\n       <use x=\"83.789062\" xlink:href=\"#DejaVuSans-51\"/>\n       <use x=\"147.412109\" xlink:href=\"#DejaVuSans-56\"/>\n       <use x=\"211.035156\" xlink:href=\"#DejaVuSans-56\"/>\n       <use x=\"274.658203\" xlink:href=\"#DejaVuSans-48\"/>\n      </g>\n     </g>\n    </g>\n    <g id=\"ytick_5\">\n     <g id=\"line2d_11\">\n      <g>\n       <use style=\"stroke:#000000;stroke-width:0.8;\" x=\"48.029688\" xlink:href=\"#m1d38ea7079\" y=\"38.03457\"/>\n      </g>\n     </g>\n     <g id=\"text_11\">\n      <!-- −3879 -->\n      <g transform=\"translate(7.2 41.833789)scale(0.1 -0.1)\">\n       <defs>\n        <path d=\"M 8.203125 72.90625 \nL 55.078125 72.90625 \nL 55.078125 68.703125 \nL 28.609375 0 \nL 18.3125 0 \nL 43.21875 64.59375 \nL 8.203125 64.59375 \nz\n\" id=\"DejaVuSans-55\"/>\n        <path d=\"M 10.984375 1.515625 \nL 10.984375 10.5 \nQ 14.703125 8.734375 18.5 7.8125 \nQ 22.3125 6.890625 25.984375 6.890625 \nQ 35.75 6.890625 40.890625 13.453125 \nQ 46.046875 20.015625 46.78125 33.40625 \nQ 43.953125 29.203125 39.59375 26.953125 \nQ 35.25 24.703125 29.984375 24.703125 \nQ 19.046875 24.703125 12.671875 31.3125 \nQ 6.296875 37.9375 6.296875 49.421875 \nQ 6.296875 60.640625 12.9375 67.421875 \nQ 19.578125 74.21875 30.609375 74.21875 \nQ 43.265625 74.21875 49.921875 64.515625 \nQ 56.59375 54.828125 56.59375 36.375 \nQ 56.59375 19.140625 48.40625 8.859375 \nQ 40.234375 -1.421875 26.421875 -1.421875 \nQ 22.703125 -1.421875 18.890625 -0.6875 \nQ 15.09375 0.046875 10.984375 1.515625 \nz\nM 30.609375 32.421875 \nQ 37.25 32.421875 41.125 36.953125 \nQ 45.015625 41.5 45.015625 49.421875 \nQ 45.015625 57.28125 41.125 61.84375 \nQ 37.25 66.40625 30.609375 66.40625 \nQ 23.96875 66.40625 20.09375 61.84375 \nQ 16.21875 57.28125 16.21875 49.421875 \nQ 16.21875 41.5 20.09375 36.953125 \nQ 23.96875 32.421875 30.609375 32.421875 \nz\n\" id=\"DejaVuSans-57\"/>\n       </defs>\n       <use xlink:href=\"#DejaVuSans-8722\"/>\n       <use x=\"83.789062\" xlink:href=\"#DejaVuSans-51\"/>\n       <use x=\"147.412109\" xlink:href=\"#DejaVuSans-56\"/>\n       <use x=\"211.035156\" xlink:href=\"#DejaVuSans-55\"/>\n       <use x=\"274.658203\" xlink:href=\"#DejaVuSans-57\"/>\n      </g>\n     </g>\n    </g>\n   </g>\n   <g id=\"line2d_12\">\n    <defs>\n     <path d=\"M 0 0.5 \nC 0.132602 0.5 0.25979 0.447317 0.353553 0.353553 \nC 0.447317 0.25979 0.5 0.132602 0.5 0 \nC 0.5 -0.132602 0.447317 -0.25979 0.353553 -0.353553 \nC 0.25979 -0.447317 0.132602 -0.5 0 -0.5 \nC -0.132602 -0.5 -0.25979 -0.447317 -0.353553 -0.353553 \nC -0.447317 -0.25979 -0.5 -0.132602 -0.5 0 \nC -0.5 0.132602 -0.447317 0.25979 -0.353553 0.353553 \nC -0.25979 0.447317 -0.132602 0.5 0 0.5 \nz\n\" id=\"mfdd84056a2\" style=\"stroke:#ff0000;\"/>\n    </defs>\n    <g clip-path=\"url(#p39a52a3e36)\">\n     <use style=\"fill:#ff0000;stroke:#ff0000;\" x=\"212.979603\" xlink:href=\"#mfdd84056a2\" y=\"39.735987\"/>\n     <use style=\"fill:#ff0000;stroke:#ff0000;\" x=\"128.560342\" xlink:href=\"#mfdd84056a2\" y=\"107.169374\"/>\n     <use style=\"fill:#ff0000;stroke:#ff0000;\" x=\"82.893026\" xlink:href=\"#mfdd84056a2\" y=\"184.249643\"/>\n     <use style=\"fill:#ff0000;stroke:#ff0000;\" x=\"275.139191\" xlink:href=\"#mfdd84056a2\" y=\"33.448827\"/>\n     <use style=\"fill:#ff0000;stroke:#ff0000;\" x=\"214.198464\" xlink:href=\"#mfdd84056a2\" y=\"39.307683\"/>\n     <use style=\"fill:#ff0000;stroke:#ff0000;\" x=\"64.933096\" xlink:href=\"#mfdd84056a2\" y=\"225.607207\"/>\n     <use style=\"fill:#ff0000;stroke:#ff0000;\" x=\"97.988039\" xlink:href=\"#mfdd84056a2\" y=\"154.720397\"/>\n     <use style=\"fill:#ff0000;stroke:#ff0000;\" x=\"204.608373\" xlink:href=\"#mfdd84056a2\" y=\"43.043333\"/>\n     <use style=\"fill:#ff0000;stroke:#ff0000;\" x=\"117.136191\" xlink:href=\"#mfdd84056a2\" y=\"123.183121\"/>\n     <use style=\"fill:#ff0000;stroke:#ff0000;\" x=\"259.519171\" xlink:href=\"#mfdd84056a2\" y=\"32.231856\"/>\n     <use style=\"fill:#ff0000;stroke:#ff0000;\" x=\"125.670629\" xlink:href=\"#mfdd84056a2\" y=\"111.03516\"/>\n     <use style=\"fill:#ff0000;stroke:#ff0000;\" x=\"192.488941\" xlink:href=\"#mfdd84056a2\" y=\"49.003324\"/>\n     <use style=\"fill:#ff0000;stroke:#ff0000;\" x=\"78.423076\" xlink:href=\"#mfdd84056a2\" y=\"193.872755\"/>\n     <use style=\"fill:#ff0000;stroke:#ff0000;\" x=\"252.232419\" xlink:href=\"#mfdd84056a2\" y=\"32.271527\"/>\n     <use style=\"fill:#ff0000;stroke:#ff0000;\" x=\"187.760165\" xlink:href=\"#mfdd84056a2\" y=\"51.720725\"/>\n     <use style=\"fill:#ff0000;stroke:#ff0000;\" x=\"337.672301\" xlink:href=\"#mfdd84056a2\" y=\"54.317906\"/>\n     <use style=\"fill:#ff0000;stroke:#ff0000;\" x=\"274.436661\" xlink:href=\"#mfdd84056a2\" y=\"33.357059\"/>\n     <use style=\"fill:#ff0000;stroke:#ff0000;\" x=\"92.094794\" xlink:href=\"#mfdd84056a2\" y=\"165.7253\"/>\n     <use style=\"fill:#ff0000;stroke:#ff0000;\" x=\"218.317308\" xlink:href=\"#mfdd84056a2\" y=\"37.958347\"/>\n     <use style=\"fill:#ff0000;stroke:#ff0000;\" x=\"305.240313\" xlink:href=\"#mfdd84056a2\" y=\"40.473704\"/>\n     <use style=\"fill:#ff0000;stroke:#ff0000;\" x=\"351.840251\" xlink:href=\"#mfdd84056a2\" y=\"62.236989\"/>\n     <use style=\"fill:#ff0000;stroke:#ff0000;\" x=\"216.170908\" xlink:href=\"#mfdd84056a2\" y=\"38.642728\"/>\n     <use style=\"fill:#ff0000;stroke:#ff0000;\" x=\"199.525307\" xlink:href=\"#mfdd84056a2\" y=\"45.370545\"/>\n     <use style=\"fill:#ff0000;stroke:#ff0000;\" x=\"100.745064\" xlink:href=\"#mfdd84056a2\" y=\"149.791006\"/>\n     <use style=\"fill:#ff0000;stroke:#ff0000;\" x=\"153.273768\" xlink:href=\"#mfdd84056a2\" y=\"78.826119\"/>\n     <use style=\"fill:#ff0000;stroke:#ff0000;\" x=\"211.773066\" xlink:href=\"#mfdd84056a2\" y=\"40.17314\"/>\n     <use style=\"fill:#ff0000;stroke:#ff0000;\" x=\"290.832812\" xlink:href=\"#mfdd84056a2\" y=\"36.372346\"/>\n     <use style=\"fill:#ff0000;stroke:#ff0000;\" x=\"242.694506\" xlink:href=\"#mfdd84056a2\" y=\"32.933509\"/>\n     <use style=\"fill:#ff0000;stroke:#ff0000;\" x=\"317.783787\" xlink:href=\"#mfdd84056a2\" y=\"45.094111\"/>\n     <use style=\"fill:#ff0000;stroke:#ff0000;\" x=\"120.948329\" xlink:href=\"#mfdd84056a2\" y=\"117.619552\"/>\n     <use style=\"fill:#ff0000;stroke:#ff0000;\" x=\"182.635142\" xlink:href=\"#mfdd84056a2\" y=\"54.923705\"/>\n     <use style=\"fill:#ff0000;stroke:#ff0000;\" x=\"79.675711\" xlink:href=\"#mfdd84056a2\" y=\"191.133292\"/>\n     <use style=\"fill:#ff0000;stroke:#ff0000;\" x=\"342.107544\" xlink:href=\"#mfdd84056a2\" y=\"56.679485\"/>\n     <use style=\"fill:#ff0000;stroke:#ff0000;\" x=\"183.745372\" xlink:href=\"#mfdd84056a2\" y=\"54.206737\"/>\n     <use style=\"fill:#ff0000;stroke:#ff0000;\" x=\"103.925781\" xlink:href=\"#mfdd84056a2\" y=\"144.272052\"/>\n     <use style=\"fill:#ff0000;stroke:#ff0000;\" x=\"362.252811\" xlink:href=\"#mfdd84056a2\" y=\"68.738981\"/>\n     <use style=\"fill:#ff0000;stroke:#ff0000;\" x=\"123.330599\" xlink:href=\"#mfdd84056a2\" y=\"114.255994\"/>\n     <use style=\"fill:#ff0000;stroke:#ff0000;\" x=\"300.584943\" xlink:href=\"#mfdd84056a2\" y=\"39.004631\"/>\n     <use style=\"fill:#ff0000;stroke:#ff0000;\" x=\"332.219061\" xlink:href=\"#mfdd84056a2\" y=\"51.564147\"/>\n     <use style=\"fill:#ff0000;stroke:#ff0000;\" x=\"222.034826\" xlink:href=\"#mfdd84056a2\" y=\"36.868552\"/>\n     <use style=\"fill:#ff0000;stroke:#ff0000;\" x=\"255.949278\" xlink:href=\"#mfdd84056a2\" y=\"32.201761\"/>\n     <use style=\"fill:#ff0000;stroke:#ff0000;\" x=\"221.230591\" xlink:href=\"#mfdd84056a2\" y=\"37.094125\"/>\n     <use style=\"fill:#ff0000;stroke:#ff0000;\" x=\"297.273778\" xlink:href=\"#mfdd84056a2\" y=\"38.042671\"/>\n     <use style=\"fill:#ff0000;stroke:#ff0000;\" x=\"250.288912\" xlink:href=\"#mfdd84056a2\" y=\"32.349591\"/>\n     <use style=\"fill:#ff0000;stroke:#ff0000;\" x=\"65.051022\" xlink:href=\"#mfdd84056a2\" y=\"225.311229\"/>\n     <use style=\"fill:#ff0000;stroke:#ff0000;\" x=\"367.611506\" xlink:href=\"#mfdd84056a2\" y=\"72.303435\"/>\n     <use style=\"fill:#ff0000;stroke:#ff0000;\" x=\"328.456134\" xlink:href=\"#mfdd84056a2\" y=\"49.761774\"/>\n     <use style=\"fill:#ff0000;stroke:#ff0000;\" x=\"184.908216\" xlink:href=\"#mfdd84056a2\" y=\"53.469564\"/>\n     <use style=\"fill:#ff0000;stroke:#ff0000;\" x=\"76.879372\" xlink:href=\"#mfdd84056a2\" y=\"197.2954\"/>\n     <use style=\"fill:#ff0000;stroke:#ff0000;\" x=\"313.37484\" xlink:href=\"#mfdd84056a2\" y=\"43.361622\"/>\n     <use style=\"fill:#ff0000;stroke:#ff0000;\" x=\"71.974106\" xlink:href=\"#mfdd84056a2\" y=\"208.521249\"/>\n     <use style=\"fill:#ff0000;stroke:#ff0000;\" x=\"215.080493\" xlink:href=\"#mfdd84056a2\" y=\"39.006044\"/>\n     <use style=\"fill:#ff0000;stroke:#ff0000;\" x=\"218.210996\" xlink:href=\"#mfdd84056a2\" y=\"37.991289\"/>\n     <use style=\"fill:#ff0000;stroke:#ff0000;\" x=\"349.512754\" xlink:href=\"#mfdd84056a2\" y=\"60.86164\"/>\n     <use style=\"fill:#ff0000;stroke:#ff0000;\" x=\"219.420848\" xlink:href=\"#mfdd84056a2\" y=\"37.622263\"/>\n     <use style=\"fill:#ff0000;stroke:#ff0000;\" x=\"179.287147\" xlink:href=\"#mfdd84056a2\" y=\"57.16433\"/>\n     <use style=\"fill:#ff0000;stroke:#ff0000;\" x=\"85.746615\" xlink:href=\"#mfdd84056a2\" y=\"178.323881\"/>\n     <use style=\"fill:#ff0000;stroke:#ff0000;\" x=\"214.906056\" xlink:href=\"#mfdd84056a2\" y=\"39.065147\"/>\n     <use style=\"fill:#ff0000;stroke:#ff0000;\" x=\"133.471593\" xlink:href=\"#mfdd84056a2\" y=\"100.875767\"/>\n     <use style=\"fill:#ff0000;stroke:#ff0000;\" x=\"148.032197\" xlink:href=\"#mfdd84056a2\" y=\"84.165118\"/>\n     <use style=\"fill:#ff0000;stroke:#ff0000;\" x=\"325.027672\" xlink:href=\"#mfdd84056a2\" y=\"48.19012\"/>\n     <use style=\"fill:#ff0000;stroke:#ff0000;\" x=\"165.649418\" xlink:href=\"#mfdd84056a2\" y=\"67.551001\"/>\n     <use style=\"fill:#ff0000;stroke:#ff0000;\" x=\"70.158228\" xlink:href=\"#mfdd84056a2\" y=\"212.815611\"/>\n     <use style=\"fill:#ff0000;stroke:#ff0000;\" x=\"114.832611\" xlink:href=\"#mfdd84056a2\" y=\"126.655351\"/>\n     <use style=\"fill:#ff0000;stroke:#ff0000;\" x=\"209.400505\" xlink:href=\"#mfdd84056a2\" y=\"41.071305\"/>\n     <use style=\"fill:#ff0000;stroke:#ff0000;\" x=\"190.938217\" xlink:href=\"#mfdd84056a2\" y=\"49.869645\"/>\n     <use style=\"fill:#ff0000;stroke:#ff0000;\" x=\"121.852964\" xlink:href=\"#mfdd84056a2\" y=\"116.332145\"/>\n     <use style=\"fill:#ff0000;stroke:#ff0000;\" x=\"179.463871\" xlink:href=\"#mfdd84056a2\" y=\"57.043086\"/>\n     <use style=\"fill:#ff0000;stroke:#ff0000;\" x=\"87.651712\" xlink:href=\"#mfdd84056a2\" y=\"174.45957\"/>\n     <use style=\"fill:#ff0000;stroke:#ff0000;\" x=\"303.359335\" xlink:href=\"#mfdd84056a2\" y=\"39.863845\"/>\n     <use style=\"fill:#ff0000;stroke:#ff0000;\" x=\"227.487885\" xlink:href=\"#mfdd84056a2\" y=\"35.4854\"/>\n     <use style=\"fill:#ff0000;stroke:#ff0000;\" x=\"258.602032\" xlink:href=\"#mfdd84056a2\" y=\"32.215121\"/>\n     <use style=\"fill:#ff0000;stroke:#ff0000;\" x=\"120.018219\" xlink:href=\"#mfdd84056a2\" y=\"118.95626\"/>\n     <use style=\"fill:#ff0000;stroke:#ff0000;\" x=\"322.227711\" xlink:href=\"#mfdd84056a2\" y=\"46.957011\"/>\n     <use style=\"fill:#ff0000;stroke:#ff0000;\" x=\"325.197761\" xlink:href=\"#mfdd84056a2\" y=\"48.266493\"/>\n     <use style=\"fill:#ff0000;stroke:#ff0000;\" x=\"144.009783\" xlink:href=\"#mfdd84056a2\" y=\"88.499817\"/>\n     <use style=\"fill:#ff0000;stroke:#ff0000;\" x=\"319.294516\" xlink:href=\"#mfdd84056a2\" y=\"45.714358\"/>\n     <use style=\"fill:#ff0000;stroke:#ff0000;\" x=\"158.968317\" xlink:href=\"#mfdd84056a2\" y=\"73.410792\"/>\n     <use style=\"fill:#ff0000;stroke:#ff0000;\" x=\"159.896148\" xlink:href=\"#mfdd84056a2\" y=\"72.565557\"/>\n     <use style=\"fill:#ff0000;stroke:#ff0000;\" x=\"346.67521\" xlink:href=\"#mfdd84056a2\" y=\"59.224093\"/>\n     <use style=\"fill:#ff0000;stroke:#ff0000;\" x=\"252.986844\" xlink:href=\"#mfdd84056a2\" y=\"32.248949\"/>\n     <use style=\"fill:#ff0000;stroke:#ff0000;\" x=\"294.731815\" xlink:href=\"#mfdd84056a2\" y=\"37.351544\"/>\n     <use style=\"fill:#ff0000;stroke:#ff0000;\" x=\"214.54774\" xlink:href=\"#mfdd84056a2\" y=\"39.187405\"/>\n     <use style=\"fill:#ff0000;stroke:#ff0000;\" x=\"269.473603\" xlink:href=\"#mfdd84056a2\" y=\"32.806838\"/>\n     <use style=\"fill:#ff0000;stroke:#ff0000;\" x=\"297.988791\" xlink:href=\"#mfdd84056a2\" y=\"38.24451\"/>\n     <use style=\"fill:#ff0000;stroke:#ff0000;\" x=\"211.121498\" xlink:href=\"#mfdd84056a2\" y=\"40.414696\"/>\n     <use style=\"fill:#ff0000;stroke:#ff0000;\" x=\"141.298143\" xlink:href=\"#mfdd84056a2\" y=\"91.541294\"/>\n     <use style=\"fill:#ff0000;stroke:#ff0000;\" x=\"263.839397\" xlink:href=\"#mfdd84056a2\" y=\"32.393542\"/>\n     <use style=\"fill:#ff0000;stroke:#ff0000;\" x=\"205.888717\" xlink:href=\"#mfdd84056a2\" y=\"42.49558\"/>\n     <use style=\"fill:#ff0000;stroke:#ff0000;\" x=\"271.78991\" xlink:href=\"#mfdd84056a2\" y=\"33.042156\"/>\n     <use style=\"fill:#ff0000;stroke:#ff0000;\" x=\"235.075414\" xlink:href=\"#mfdd84056a2\" y=\"33.976507\"/>\n     <use style=\"fill:#ff0000;stroke:#ff0000;\" x=\"266.053309\" xlink:href=\"#mfdd84056a2\" y=\"32.528848\"/>\n     <use style=\"fill:#ff0000;stroke:#ff0000;\" x=\"330.87873\" xlink:href=\"#mfdd84056a2\" y=\"50.912926\"/>\n     <use style=\"fill:#ff0000;stroke:#ff0000;\" x=\"266.447242\" xlink:href=\"#mfdd84056a2\" y=\"32.556614\"/>\n     <use style=\"fill:#ff0000;stroke:#ff0000;\" x=\"261.114855\" xlink:href=\"#mfdd84056a2\" y=\"32.275709\"/>\n     <use style=\"fill:#ff0000;stroke:#ff0000;\" x=\"366.606704\" xlink:href=\"#mfdd84056a2\" y=\"71.623939\"/>\n     <use style=\"fill:#ff0000;stroke:#ff0000;\" x=\"129.079505\" xlink:href=\"#mfdd84056a2\" y=\"106.487752\"/>\n     <use style=\"fill:#ff0000;stroke:#ff0000;\" x=\"151.561118\" xlink:href=\"#mfdd84056a2\" y=\"80.532674\"/>\n     <use style=\"fill:#ff0000;stroke:#ff0000;\" x=\"266.354673\" xlink:href=\"#mfdd84056a2\" y=\"32.549989\"/>\n     <use style=\"fill:#ff0000;stroke:#ff0000;\" x=\"63.247869\" xlink:href=\"#mfdd84056a2\" y=\"229.874489\"/>\n    </g>\n   </g>\n   <g id=\"patch_3\">\n    <path d=\"M 48.029688 239.758125 \nL 48.029688 22.318125 \n\" style=\"fill:none;stroke:#000000;stroke-linecap:square;stroke-linejoin:miter;stroke-width:0.8;\"/>\n   </g>\n   <g id=\"patch_4\">\n    <path d=\"M 382.829688 239.758125 \nL 382.829688 22.318125 \n\" style=\"fill:none;stroke:#000000;stroke-linecap:square;stroke-linejoin:miter;stroke-width:0.8;\"/>\n   </g>\n   <g id=\"patch_5\">\n    <path d=\"M 48.029688 239.758125 \nL 382.829687 239.758125 \n\" style=\"fill:none;stroke:#000000;stroke-linecap:square;stroke-linejoin:miter;stroke-width:0.8;\"/>\n   </g>\n   <g id=\"patch_6\">\n    <path d=\"M 48.029688 22.318125 \nL 382.829687 22.318125 \n\" style=\"fill:none;stroke:#000000;stroke-linecap:square;stroke-linejoin:miter;stroke-width:0.8;\"/>\n   </g>\n   <g id=\"text_12\">\n    <!-- CV negative mean squared error -->\n    <g transform=\"translate(117.480625 16.318125)scale(0.12 -0.12)\">\n     <defs>\n      <path d=\"M 64.40625 67.28125 \nL 64.40625 56.890625 \nQ 59.421875 61.53125 53.78125 63.8125 \nQ 48.140625 66.109375 41.796875 66.109375 \nQ 29.296875 66.109375 22.65625 58.46875 \nQ 16.015625 50.828125 16.015625 36.375 \nQ 16.015625 21.96875 22.65625 14.328125 \nQ 29.296875 6.6875 41.796875 6.6875 \nQ 48.140625 6.6875 53.78125 8.984375 \nQ 59.421875 11.28125 64.40625 15.921875 \nL 64.40625 5.609375 \nQ 59.234375 2.09375 53.4375 0.328125 \nQ 47.65625 -1.421875 41.21875 -1.421875 \nQ 24.65625 -1.421875 15.125 8.703125 \nQ 5.609375 18.84375 5.609375 36.375 \nQ 5.609375 53.953125 15.125 64.078125 \nQ 24.65625 74.21875 41.21875 74.21875 \nQ 47.75 74.21875 53.53125 72.484375 \nQ 59.328125 70.75 64.40625 67.28125 \nz\n\" id=\"DejaVuSans-67\"/>\n      <path d=\"M 28.609375 0 \nL 0.78125 72.90625 \nL 11.078125 72.90625 \nL 34.1875 11.53125 \nL 57.328125 72.90625 \nL 67.578125 72.90625 \nL 39.796875 0 \nz\n\" id=\"DejaVuSans-86\"/>\n      <path id=\"DejaVuSans-32\"/>\n      <path d=\"M 54.890625 33.015625 \nL 54.890625 0 \nL 45.90625 0 \nL 45.90625 32.71875 \nQ 45.90625 40.484375 42.875 44.328125 \nQ 39.84375 48.1875 33.796875 48.1875 \nQ 26.515625 48.1875 22.3125 43.546875 \nQ 18.109375 38.921875 18.109375 30.90625 \nL 18.109375 0 \nL 9.078125 0 \nL 9.078125 54.6875 \nL 18.109375 54.6875 \nL 18.109375 46.1875 \nQ 21.34375 51.125 25.703125 53.5625 \nQ 30.078125 56 35.796875 56 \nQ 45.21875 56 50.046875 50.171875 \nQ 54.890625 44.34375 54.890625 33.015625 \nz\n\" id=\"DejaVuSans-110\"/>\n      <path d=\"M 56.203125 29.59375 \nL 56.203125 25.203125 \nL 14.890625 25.203125 \nQ 15.484375 15.921875 20.484375 11.0625 \nQ 25.484375 6.203125 34.421875 6.203125 \nQ 39.59375 6.203125 44.453125 7.46875 \nQ 49.3125 8.734375 54.109375 11.28125 \nL 54.109375 2.78125 \nQ 49.265625 0.734375 44.1875 -0.34375 \nQ 39.109375 -1.421875 33.890625 -1.421875 \nQ 20.796875 -1.421875 13.15625 6.1875 \nQ 5.515625 13.8125 5.515625 26.8125 \nQ 5.515625 40.234375 12.765625 48.109375 \nQ 20.015625 56 32.328125 56 \nQ 43.359375 56 49.78125 48.890625 \nQ 56.203125 41.796875 56.203125 29.59375 \nz\nM 47.21875 32.234375 \nQ 47.125 39.59375 43.09375 43.984375 \nQ 39.0625 48.390625 32.421875 48.390625 \nQ 24.90625 48.390625 20.390625 44.140625 \nQ 15.875 39.890625 15.1875 32.171875 \nz\n\" id=\"DejaVuSans-101\"/>\n      <path d=\"M 45.40625 27.984375 \nQ 45.40625 37.75 41.375 43.109375 \nQ 37.359375 48.484375 30.078125 48.484375 \nQ 22.859375 48.484375 18.828125 43.109375 \nQ 14.796875 37.75 14.796875 27.984375 \nQ 14.796875 18.265625 18.828125 12.890625 \nQ 22.859375 7.515625 30.078125 7.515625 \nQ 37.359375 7.515625 41.375 12.890625 \nQ 45.40625 18.265625 45.40625 27.984375 \nz\nM 54.390625 6.78125 \nQ 54.390625 -7.171875 48.1875 -13.984375 \nQ 42 -20.796875 29.203125 -20.796875 \nQ 24.46875 -20.796875 20.265625 -20.09375 \nQ 16.0625 -19.390625 12.109375 -17.921875 \nL 12.109375 -9.1875 \nQ 16.0625 -11.328125 19.921875 -12.34375 \nQ 23.78125 -13.375 27.78125 -13.375 \nQ 36.625 -13.375 41.015625 -8.765625 \nQ 45.40625 -4.15625 45.40625 5.171875 \nL 45.40625 9.625 \nQ 42.625 4.78125 38.28125 2.390625 \nQ 33.9375 0 27.875 0 \nQ 17.828125 0 11.671875 7.65625 \nQ 5.515625 15.328125 5.515625 27.984375 \nQ 5.515625 40.671875 11.671875 48.328125 \nQ 17.828125 56 27.875 56 \nQ 33.9375 56 38.28125 53.609375 \nQ 42.625 51.21875 45.40625 46.390625 \nL 45.40625 54.6875 \nL 54.390625 54.6875 \nz\n\" id=\"DejaVuSans-103\"/>\n      <path d=\"M 34.28125 27.484375 \nQ 23.390625 27.484375 19.1875 25 \nQ 14.984375 22.515625 14.984375 16.5 \nQ 14.984375 11.71875 18.140625 8.90625 \nQ 21.296875 6.109375 26.703125 6.109375 \nQ 34.1875 6.109375 38.703125 11.40625 \nQ 43.21875 16.703125 43.21875 25.484375 \nL 43.21875 27.484375 \nz\nM 52.203125 31.203125 \nL 52.203125 0 \nL 43.21875 0 \nL 43.21875 8.296875 \nQ 40.140625 3.328125 35.546875 0.953125 \nQ 30.953125 -1.421875 24.3125 -1.421875 \nQ 15.921875 -1.421875 10.953125 3.296875 \nQ 6 8.015625 6 15.921875 \nQ 6 25.140625 12.171875 29.828125 \nQ 18.359375 34.515625 30.609375 34.515625 \nL 43.21875 34.515625 \nL 43.21875 35.40625 \nQ 43.21875 41.609375 39.140625 45 \nQ 35.0625 48.390625 27.6875 48.390625 \nQ 23 48.390625 18.546875 47.265625 \nQ 14.109375 46.140625 10.015625 43.890625 \nL 10.015625 52.203125 \nQ 14.9375 54.109375 19.578125 55.046875 \nQ 24.21875 56 28.609375 56 \nQ 40.484375 56 46.34375 49.84375 \nQ 52.203125 43.703125 52.203125 31.203125 \nz\n\" id=\"DejaVuSans-97\"/>\n      <path d=\"M 18.3125 70.21875 \nL 18.3125 54.6875 \nL 36.8125 54.6875 \nL 36.8125 47.703125 \nL 18.3125 47.703125 \nL 18.3125 18.015625 \nQ 18.3125 11.328125 20.140625 9.421875 \nQ 21.96875 7.515625 27.59375 7.515625 \nL 36.8125 7.515625 \nL 36.8125 0 \nL 27.59375 0 \nQ 17.1875 0 13.234375 3.875 \nQ 9.28125 7.765625 9.28125 18.015625 \nL 9.28125 47.703125 \nL 2.6875 47.703125 \nL 2.6875 54.6875 \nL 9.28125 54.6875 \nL 9.28125 70.21875 \nz\n\" id=\"DejaVuSans-116\"/>\n      <path d=\"M 9.421875 54.6875 \nL 18.40625 54.6875 \nL 18.40625 0 \nL 9.421875 0 \nz\nM 9.421875 75.984375 \nL 18.40625 75.984375 \nL 18.40625 64.59375 \nL 9.421875 64.59375 \nz\n\" id=\"DejaVuSans-105\"/>\n      <path d=\"M 2.984375 54.6875 \nL 12.5 54.6875 \nL 29.59375 8.796875 \nL 46.6875 54.6875 \nL 56.203125 54.6875 \nL 35.6875 0 \nL 23.484375 0 \nz\n\" id=\"DejaVuSans-118\"/>\n      <path d=\"M 52 44.1875 \nQ 55.375 50.25 60.0625 53.125 \nQ 64.75 56 71.09375 56 \nQ 79.640625 56 84.28125 50.015625 \nQ 88.921875 44.046875 88.921875 33.015625 \nL 88.921875 0 \nL 79.890625 0 \nL 79.890625 32.71875 \nQ 79.890625 40.578125 77.09375 44.375 \nQ 74.3125 48.1875 68.609375 48.1875 \nQ 61.625 48.1875 57.5625 43.546875 \nQ 53.515625 38.921875 53.515625 30.90625 \nL 53.515625 0 \nL 44.484375 0 \nL 44.484375 32.71875 \nQ 44.484375 40.625 41.703125 44.40625 \nQ 38.921875 48.1875 33.109375 48.1875 \nQ 26.21875 48.1875 22.15625 43.53125 \nQ 18.109375 38.875 18.109375 30.90625 \nL 18.109375 0 \nL 9.078125 0 \nL 9.078125 54.6875 \nL 18.109375 54.6875 \nL 18.109375 46.1875 \nQ 21.1875 51.21875 25.484375 53.609375 \nQ 29.78125 56 35.6875 56 \nQ 41.65625 56 45.828125 52.96875 \nQ 50 49.953125 52 44.1875 \nz\n\" id=\"DejaVuSans-109\"/>\n      <path d=\"M 44.28125 53.078125 \nL 44.28125 44.578125 \nQ 40.484375 46.53125 36.375 47.5 \nQ 32.28125 48.484375 27.875 48.484375 \nQ 21.1875 48.484375 17.84375 46.4375 \nQ 14.5 44.390625 14.5 40.28125 \nQ 14.5 37.15625 16.890625 35.375 \nQ 19.28125 33.59375 26.515625 31.984375 \nL 29.59375 31.296875 \nQ 39.15625 29.25 43.1875 25.515625 \nQ 47.21875 21.78125 47.21875 15.09375 \nQ 47.21875 7.46875 41.1875 3.015625 \nQ 35.15625 -1.421875 24.609375 -1.421875 \nQ 20.21875 -1.421875 15.453125 -0.5625 \nQ 10.6875 0.296875 5.421875 2 \nL 5.421875 11.28125 \nQ 10.40625 8.6875 15.234375 7.390625 \nQ 20.0625 6.109375 24.8125 6.109375 \nQ 31.15625 6.109375 34.5625 8.28125 \nQ 37.984375 10.453125 37.984375 14.40625 \nQ 37.984375 18.0625 35.515625 20.015625 \nQ 33.0625 21.96875 24.703125 23.78125 \nL 21.578125 24.515625 \nQ 13.234375 26.265625 9.515625 29.90625 \nQ 5.8125 33.546875 5.8125 39.890625 \nQ 5.8125 47.609375 11.28125 51.796875 \nQ 16.75 56 26.8125 56 \nQ 31.78125 56 36.171875 55.265625 \nQ 40.578125 54.546875 44.28125 53.078125 \nz\n\" id=\"DejaVuSans-115\"/>\n      <path d=\"M 14.796875 27.296875 \nQ 14.796875 17.390625 18.875 11.75 \nQ 22.953125 6.109375 30.078125 6.109375 \nQ 37.203125 6.109375 41.296875 11.75 \nQ 45.40625 17.390625 45.40625 27.296875 \nQ 45.40625 37.203125 41.296875 42.84375 \nQ 37.203125 48.484375 30.078125 48.484375 \nQ 22.953125 48.484375 18.875 42.84375 \nQ 14.796875 37.203125 14.796875 27.296875 \nz\nM 45.40625 8.203125 \nQ 42.578125 3.328125 38.25 0.953125 \nQ 33.9375 -1.421875 27.875 -1.421875 \nQ 17.96875 -1.421875 11.734375 6.484375 \nQ 5.515625 14.40625 5.515625 27.296875 \nQ 5.515625 40.1875 11.734375 48.09375 \nQ 17.96875 56 27.875 56 \nQ 33.9375 56 38.25 53.625 \nQ 42.578125 51.265625 45.40625 46.390625 \nL 45.40625 54.6875 \nL 54.390625 54.6875 \nL 54.390625 -20.796875 \nL 45.40625 -20.796875 \nz\n\" id=\"DejaVuSans-113\"/>\n      <path d=\"M 8.5 21.578125 \nL 8.5 54.6875 \nL 17.484375 54.6875 \nL 17.484375 21.921875 \nQ 17.484375 14.15625 20.5 10.265625 \nQ 23.53125 6.390625 29.59375 6.390625 \nQ 36.859375 6.390625 41.078125 11.03125 \nQ 45.3125 15.671875 45.3125 23.6875 \nL 45.3125 54.6875 \nL 54.296875 54.6875 \nL 54.296875 0 \nL 45.3125 0 \nL 45.3125 8.40625 \nQ 42.046875 3.421875 37.71875 1 \nQ 33.40625 -1.421875 27.6875 -1.421875 \nQ 18.265625 -1.421875 13.375 4.4375 \nQ 8.5 10.296875 8.5 21.578125 \nz\nM 31.109375 56 \nz\n\" id=\"DejaVuSans-117\"/>\n      <path d=\"M 41.109375 46.296875 \nQ 39.59375 47.171875 37.8125 47.578125 \nQ 36.03125 48 33.890625 48 \nQ 26.265625 48 22.1875 43.046875 \nQ 18.109375 38.09375 18.109375 28.8125 \nL 18.109375 0 \nL 9.078125 0 \nL 9.078125 54.6875 \nL 18.109375 54.6875 \nL 18.109375 46.1875 \nQ 20.953125 51.171875 25.484375 53.578125 \nQ 30.03125 56 36.53125 56 \nQ 37.453125 56 38.578125 55.875 \nQ 39.703125 55.765625 41.0625 55.515625 \nz\n\" id=\"DejaVuSans-114\"/>\n      <path d=\"M 45.40625 46.390625 \nL 45.40625 75.984375 \nL 54.390625 75.984375 \nL 54.390625 0 \nL 45.40625 0 \nL 45.40625 8.203125 \nQ 42.578125 3.328125 38.25 0.953125 \nQ 33.9375 -1.421875 27.875 -1.421875 \nQ 17.96875 -1.421875 11.734375 6.484375 \nQ 5.515625 14.40625 5.515625 27.296875 \nQ 5.515625 40.1875 11.734375 48.09375 \nQ 17.96875 56 27.875 56 \nQ 33.9375 56 38.25 53.625 \nQ 42.578125 51.265625 45.40625 46.390625 \nz\nM 14.796875 27.296875 \nQ 14.796875 17.390625 18.875 11.75 \nQ 22.953125 6.109375 30.078125 6.109375 \nQ 37.203125 6.109375 41.296875 11.75 \nQ 45.40625 17.390625 45.40625 27.296875 \nQ 45.40625 37.203125 41.296875 42.84375 \nQ 37.203125 48.484375 30.078125 48.484375 \nQ 22.953125 48.484375 18.875 42.84375 \nQ 14.796875 37.203125 14.796875 27.296875 \nz\n\" id=\"DejaVuSans-100\"/>\n      <path d=\"M 30.609375 48.390625 \nQ 23.390625 48.390625 19.1875 42.75 \nQ 14.984375 37.109375 14.984375 27.296875 \nQ 14.984375 17.484375 19.15625 11.84375 \nQ 23.34375 6.203125 30.609375 6.203125 \nQ 37.796875 6.203125 41.984375 11.859375 \nQ 46.1875 17.53125 46.1875 27.296875 \nQ 46.1875 37.015625 41.984375 42.703125 \nQ 37.796875 48.390625 30.609375 48.390625 \nz\nM 30.609375 56 \nQ 42.328125 56 49.015625 48.375 \nQ 55.71875 40.765625 55.71875 27.296875 \nQ 55.71875 13.875 49.015625 6.21875 \nQ 42.328125 -1.421875 30.609375 -1.421875 \nQ 18.84375 -1.421875 12.171875 6.21875 \nQ 5.515625 13.875 5.515625 27.296875 \nQ 5.515625 40.765625 12.171875 48.375 \nQ 18.84375 56 30.609375 56 \nz\n\" id=\"DejaVuSans-111\"/>\n     </defs>\n     <use xlink:href=\"#DejaVuSans-67\"/>\n     <use x=\"69.824219\" xlink:href=\"#DejaVuSans-86\"/>\n     <use x=\"138.232422\" xlink:href=\"#DejaVuSans-32\"/>\n     <use x=\"170.019531\" xlink:href=\"#DejaVuSans-110\"/>\n     <use x=\"233.398438\" xlink:href=\"#DejaVuSans-101\"/>\n     <use x=\"294.921875\" xlink:href=\"#DejaVuSans-103\"/>\n     <use x=\"358.398438\" xlink:href=\"#DejaVuSans-97\"/>\n     <use x=\"419.677734\" xlink:href=\"#DejaVuSans-116\"/>\n     <use x=\"458.886719\" xlink:href=\"#DejaVuSans-105\"/>\n     <use x=\"486.669922\" xlink:href=\"#DejaVuSans-118\"/>\n     <use x=\"545.849609\" xlink:href=\"#DejaVuSans-101\"/>\n     <use x=\"607.373047\" xlink:href=\"#DejaVuSans-32\"/>\n     <use x=\"639.160156\" xlink:href=\"#DejaVuSans-109\"/>\n     <use x=\"736.572266\" xlink:href=\"#DejaVuSans-101\"/>\n     <use x=\"798.095703\" xlink:href=\"#DejaVuSans-97\"/>\n     <use x=\"859.375\" xlink:href=\"#DejaVuSans-110\"/>\n     <use x=\"922.753906\" xlink:href=\"#DejaVuSans-32\"/>\n     <use x=\"954.541016\" xlink:href=\"#DejaVuSans-115\"/>\n     <use x=\"1006.640625\" xlink:href=\"#DejaVuSans-113\"/>\n     <use x=\"1070.117188\" xlink:href=\"#DejaVuSans-117\"/>\n     <use x=\"1133.496094\" xlink:href=\"#DejaVuSans-97\"/>\n     <use x=\"1194.775391\" xlink:href=\"#DejaVuSans-114\"/>\n     <use x=\"1233.638672\" xlink:href=\"#DejaVuSans-101\"/>\n     <use x=\"1295.162109\" xlink:href=\"#DejaVuSans-100\"/>\n     <use x=\"1358.638672\" xlink:href=\"#DejaVuSans-32\"/>\n     <use x=\"1390.425781\" xlink:href=\"#DejaVuSans-101\"/>\n     <use x=\"1451.949219\" xlink:href=\"#DejaVuSans-114\"/>\n     <use x=\"1491.3125\" xlink:href=\"#DejaVuSans-114\"/>\n     <use x=\"1530.175781\" xlink:href=\"#DejaVuSans-111\"/>\n     <use x=\"1591.357422\" xlink:href=\"#DejaVuSans-114\"/>\n    </g>\n   </g>\n  </g>\n </g>\n <defs>\n  <clipPath id=\"p39a52a3e36\">\n   <rect height=\"217.44\" width=\"334.8\" x=\"48.029688\" y=\"22.318125\"/>\n  </clipPath>\n </defs>\n</svg>\n",
      "image/png": "[encoded data removed]"
     },
     "metadata": {
      "needs_background": "light"
     }
    }
   ],
   "source": [
    "plt.plot(cv_results['param_alpha'], cv_results['mean_test_score'], 'ro', markersize=1)\n",
    "plt.title('CV negative mean squared error')\n",
    "run.log_image(\"CV errors plot\", plot=plt)\n",
    "plt.show()"
   ]
  },
  {
   "cell_type": "code",
   "execution_count": 13,
   "metadata": {},
   "outputs": [],
   "source": [
    "run.complete()"
   ]
  },
  {
   "cell_type": "code",
   "execution_count": null,
   "metadata": {},
   "outputs": [],
   "source": []
  }
 ],
 "metadata": {
  "kernelspec": {
   "name": "python3",
   "display_name": "Python 3.8.10 64-bit ('mlops_train': conda)"
  },
  "language_info": {
   "codemirror_mode": {
    "name": "ipython",
    "version": 3
   },
   "file_extension": ".py",
   "mimetype": "text/x-python",
   "name": "python",
   "nbconvert_exporter": "python",
   "pygments_lexer": "ipython3",
   "version": "3.8.10"
  },
  "interpreter": {
   "hash": "a2bc39ff78dd4a73106c234fbd4de5427fb8e6406827c32a9355c92b962a3927"
  }
 },
 "nbformat": 4,
 "nbformat_minor": 2
}